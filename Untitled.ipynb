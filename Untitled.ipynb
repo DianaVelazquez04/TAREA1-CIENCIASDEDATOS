{
 "cells": [
  {
   "cell_type": "code",
   "execution_count": 89,
   "id": "134e56de-3904-41c7-adba-445c6d53b644",
   "metadata": {},
   "outputs": [
    {
     "name": "stdout",
     "output_type": "stream",
     "text": [
      "Requirement already satisfied: PyMySQL in c:\\users\\diana\\appdata\\local\\programs\\python\\python312\\lib\\site-packages (1.1.1)\n",
      "Requirement already satisfied: ipython-sql in c:\\users\\diana\\appdata\\local\\programs\\python\\python312\\lib\\site-packages (0.5.0)\n",
      "Requirement already satisfied: prettytable in c:\\users\\diana\\appdata\\local\\programs\\python\\python312\\lib\\site-packages (from ipython-sql) (3.10.0)\n",
      "Requirement already satisfied: ipython in c:\\users\\diana\\appdata\\local\\programs\\python\\python312\\lib\\site-packages (from ipython-sql) (8.25.0)\n",
      "Requirement already satisfied: sqlalchemy>=2.0 in c:\\users\\diana\\appdata\\local\\programs\\python\\python312\\lib\\site-packages (from ipython-sql) (2.0.30)\n",
      "Requirement already satisfied: sqlparse in c:\\users\\diana\\appdata\\local\\programs\\python\\python312\\lib\\site-packages (from ipython-sql) (0.5.0)\n",
      "Requirement already satisfied: six in c:\\users\\diana\\appdata\\local\\programs\\python\\python312\\lib\\site-packages (from ipython-sql) (1.16.0)\n",
      "Requirement already satisfied: ipython-genutils in c:\\users\\diana\\appdata\\local\\programs\\python\\python312\\lib\\site-packages (from ipython-sql) (0.2.0)\n",
      "Requirement already satisfied: typing-extensions>=4.6.0 in c:\\users\\diana\\appdata\\local\\programs\\python\\python312\\lib\\site-packages (from sqlalchemy>=2.0->ipython-sql) (4.12.2)\n",
      "Requirement already satisfied: greenlet!=0.4.17 in c:\\users\\diana\\appdata\\local\\programs\\python\\python312\\lib\\site-packages (from sqlalchemy>=2.0->ipython-sql) (3.0.3)\n",
      "Requirement already satisfied: decorator in c:\\users\\diana\\appdata\\local\\programs\\python\\python312\\lib\\site-packages (from ipython->ipython-sql) (5.1.1)\n",
      "Requirement already satisfied: jedi>=0.16 in c:\\users\\diana\\appdata\\local\\programs\\python\\python312\\lib\\site-packages (from ipython->ipython-sql) (0.19.1)\n",
      "Requirement already satisfied: matplotlib-inline in c:\\users\\diana\\appdata\\local\\programs\\python\\python312\\lib\\site-packages (from ipython->ipython-sql) (0.1.7)\n",
      "Requirement already satisfied: prompt-toolkit<3.1.0,>=3.0.41 in c:\\users\\diana\\appdata\\local\\programs\\python\\python312\\lib\\site-packages (from ipython->ipython-sql) (3.0.46)\n",
      "Requirement already satisfied: pygments>=2.4.0 in c:\\users\\diana\\appdata\\local\\programs\\python\\python312\\lib\\site-packages (from ipython->ipython-sql) (2.18.0)\n",
      "Requirement already satisfied: stack-data in c:\\users\\diana\\appdata\\local\\programs\\python\\python312\\lib\\site-packages (from ipython->ipython-sql) (0.6.3)\n",
      "Requirement already satisfied: traitlets>=5.13.0 in c:\\users\\diana\\appdata\\local\\programs\\python\\python312\\lib\\site-packages (from ipython->ipython-sql) (5.14.3)\n",
      "Requirement already satisfied: colorama in c:\\users\\diana\\appdata\\local\\programs\\python\\python312\\lib\\site-packages (from ipython->ipython-sql) (0.4.6)\n",
      "Requirement already satisfied: wcwidth in c:\\users\\diana\\appdata\\local\\programs\\python\\python312\\lib\\site-packages (from prettytable->ipython-sql) (0.2.13)\n",
      "Requirement already satisfied: parso<0.9.0,>=0.8.3 in c:\\users\\diana\\appdata\\local\\programs\\python\\python312\\lib\\site-packages (from jedi>=0.16->ipython->ipython-sql) (0.8.4)\n",
      "Requirement already satisfied: executing>=1.2.0 in c:\\users\\diana\\appdata\\local\\programs\\python\\python312\\lib\\site-packages (from stack-data->ipython->ipython-sql) (2.0.1)\n",
      "Requirement already satisfied: asttokens>=2.1.0 in c:\\users\\diana\\appdata\\local\\programs\\python\\python312\\lib\\site-packages (from stack-data->ipython->ipython-sql) (2.4.1)\n",
      "Requirement already satisfied: pure-eval in c:\\users\\diana\\appdata\\local\\programs\\python\\python312\\lib\\site-packages (from stack-data->ipython->ipython-sql) (0.2.2)\n",
      "Requirement already satisfied: mysqlclient in c:\\users\\diana\\appdata\\local\\programs\\python\\python312\\lib\\site-packages (2.2.4)\n"
     ]
    }
   ],
   "source": [
    "! pip install PyMySQL\n",
    "! pip install ipython-sql\n",
    "! pip install mysqlclient"
   ]
  },
  {
   "cell_type": "code",
   "execution_count": 90,
   "id": "61493e96-818e-4d29-ac2a-edbea30838fd",
   "metadata": {},
   "outputs": [
    {
     "name": "stdout",
     "output_type": "stream",
     "text": [
      "Requirement already satisfied: pandas in c:\\users\\diana\\appdata\\local\\programs\\python\\python312\\lib\\site-packages (2.2.2)\n",
      "Requirement already satisfied: numpy>=1.26.0 in c:\\users\\diana\\appdata\\local\\programs\\python\\python312\\lib\\site-packages (from pandas) (1.26.4)\n",
      "Requirement already satisfied: python-dateutil>=2.8.2 in c:\\users\\diana\\appdata\\local\\programs\\python\\python312\\lib\\site-packages (from pandas) (2.9.0.post0)\n",
      "Requirement already satisfied: pytz>=2020.1 in c:\\users\\diana\\appdata\\local\\programs\\python\\python312\\lib\\site-packages (from pandas) (2024.1)\n",
      "Requirement already satisfied: tzdata>=2022.7 in c:\\users\\diana\\appdata\\local\\programs\\python\\python312\\lib\\site-packages (from pandas) (2024.1)\n",
      "Requirement already satisfied: six>=1.5 in c:\\users\\diana\\appdata\\local\\programs\\python\\python312\\lib\\site-packages (from python-dateutil>=2.8.2->pandas) (1.16.0)\n",
      "Note: you may need to restart the kernel to use updated packages.\n"
     ]
    }
   ],
   "source": [
    "pip install pandas\n"
   ]
  },
  {
   "cell_type": "code",
   "execution_count": 91,
   "id": "0fe521f0-ac9e-4a57-9a75-12573cc6d83c",
   "metadata": {},
   "outputs": [],
   "source": [
    "import pymysql\n",
    "import pandas as pd\n"
   ]
  },
  {
   "cell_type": "code",
   "execution_count": 97,
   "id": "157b74d4-58ab-4bac-bc27-8f3dde67f27a",
   "metadata": {},
   "outputs": [],
   "source": [
    "if conn is not None:\n",
    "   \n",
    "    df = pd.read_sql_query(\"SELECT * FROM citas\", conn)\n",
    "    print(df)\n",
    "\n"
   ]
  },
  {
   "cell_type": "code",
   "execution_count": 98,
   "id": "b504ddae-21c6-406e-9a91-df1f2378d138",
   "metadata": {},
   "outputs": [],
   "source": [
    "def agregar_paciente(nombre, edad, genero, direccion):\n",
    "    cursor = conexion.cursor()\n",
    "    consulta = \"INSERT INTO pacientes (nombre, edad, genero, direccion) VALUES (%s, %s, %s, %s)\"\n",
    "    datos = (nombre, edad, genero, direccion)\n",
    "    cursor.execute(consulta, datos)\n",
    "    conexion.commit()\n",
    "    cursor.close()\n"
   ]
  },
  {
   "cell_type": "code",
   "execution_count": 99,
   "id": "f905a906-5b72-41d0-91ef-026ce0a25a21",
   "metadata": {},
   "outputs": [],
   "source": [
    "import pymysql"
   ]
  },
  {
   "cell_type": "code",
   "execution_count": 100,
   "id": "ff8ed781-0d09-40a8-ba81-2bb8e6a51df2",
   "metadata": {},
   "outputs": [],
   "source": [
    "def listar_pacientes(conexion):\n",
    "    cursor = conexion.cursor()\n",
    "    cursor.execute(\"SELECT * FROM pacientes\")\n",
    "    pacientes = cursor.fetchall()\n",
    "    cursor.close()\n",
    "    for paciente in pacientes:\n",
    "        print(paciente)"
   ]
  },
  {
   "cell_type": "code",
   "execution_count": 101,
   "id": "4390fcd9-4024-4238-a763-a5fb4dc7ab1e",
   "metadata": {},
   "outputs": [],
   "source": [
    "def agregar_paciente(conexion, nombre, edad, genero, direccion):\n",
    "    cursor = conexion.cursor()\n",
    "    consulta = \"INSERT INTO pacientes (nombre, edad, genero, direccion) VALUES (%s, %s, %s, %s)\"\n",
    "    datos = (nombre, edad, genero, direccion)\n",
    "    cursor.execute(consulta, datos)\n",
    "    conexion.commit()\n",
    "    cursor.close()"
   ]
  },
  {
   "cell_type": "code",
   "execution_count": 102,
   "id": "621de18c-257e-41b5-baf2-d7cce5f3ee9d",
   "metadata": {},
   "outputs": [],
   "source": [
    "def listar_medicos(conexion):\n",
    "    cursor = conexion.cursor()\n",
    "    cursor.execute(\"SELECT * FROM medicos\")\n",
    "    medicos = cursor.fetchall()\n",
    "    cursor.close()\n",
    "    for medico in medicos:\n",
    "        print(medico)\n"
   ]
  },
  {
   "cell_type": "code",
   "execution_count": 103,
   "id": "473c8039-1fbc-443b-9ccc-84c607a22717",
   "metadata": {},
   "outputs": [],
   "source": [
    "def agregar_medico(conexion, nombre, especialidad):\n",
    "    cursor = conexion.cursor()\n",
    "    consulta = \"INSERT INTO medicos (nombre, especialidad) VALUES (%s, %s)\"\n",
    "    datos = (nombre, especialidad)\n",
    "    cursor.execute(consulta, datos)\n",
    "    conexion.commit()\n",
    "    cursor.close()"
   ]
  },
  {
   "cell_type": "code",
   "execution_count": 104,
   "id": "bc2a3eaf-1299-4352-bd5b-4f09ce4be269",
   "metadata": {},
   "outputs": [],
   "source": [
    "def listar_citas(conexion):\n",
    "    cursor = conexion.cursor()\n",
    "    cursor.execute(\"SELECT * FROM citas\")\n",
    "    citas = cursor.fetchall()\n",
    "    cursor.close()\n",
    "    for cita in citas:\n",
    "        print(cita)"
   ]
  },
  {
   "cell_type": "code",
   "execution_count": 105,
   "id": "4710ec46-9ef2-4740-8c83-6a125ba7e36f",
   "metadata": {},
   "outputs": [],
   "source": [
    "def agregar_cita(conexion, id_paciente, id_medico, fecha, hora):\n",
    "    cursor = conexion.cursor()\n",
    "    consulta = \"INSERT INTO citas (id_paciente, id_medico, fecha, hora) VALUES (%s, %s, %s, %s)\"\n",
    "    datos = (id_paciente, id_medico, fecha, hora)\n",
    "    cursor.execute(consulta, datos)\n",
    "    conexion.commit()\n",
    "    cursor.close()"
   ]
  }
 ],
 "metadata": {
  "kernelspec": {
   "display_name": "Python 3 (ipykernel)",
   "language": "python",
   "name": "python3"
  },
  "language_info": {
   "codemirror_mode": {
    "name": "ipython",
    "version": 3
   },
   "file_extension": ".py",
   "mimetype": "text/x-python",
   "name": "python",
   "nbconvert_exporter": "python",
   "pygments_lexer": "ipython3",
   "version": "3.12.4"
  }
 },
 "nbformat": 4,
 "nbformat_minor": 5
}
